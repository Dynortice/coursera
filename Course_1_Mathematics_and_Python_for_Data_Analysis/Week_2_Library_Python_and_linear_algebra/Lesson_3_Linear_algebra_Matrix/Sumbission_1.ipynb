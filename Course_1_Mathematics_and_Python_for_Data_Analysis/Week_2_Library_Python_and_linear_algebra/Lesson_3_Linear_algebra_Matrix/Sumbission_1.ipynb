{
 "cells": [
  {
   "cell_type": "code",
   "execution_count": 5,
   "metadata": {
    "collapsed": true
   },
   "outputs": [],
   "source": [
    "import pandas as pd\n",
    "import numpy as np\n",
    "import re\n",
    "from scipy import spatial"
   ]
  },
  {
   "cell_type": "code",
   "execution_count": 67,
   "metadata": {
    "collapsed": false
   },
   "outputs": [
    {
     "name": "stdout",
     "output_type": "stream",
     "text": [
      "Ближайшие предложения к 1-му по косинусному расстоянию: 6 и 4\n"
     ]
    }
   ],
   "source": [
    "cat_pd = pd.read_csv('sentences.txt', header = None, delimiter = '\\n', index_col = False)[0]\n",
    "cat_np = np.array(cat_pd)\n",
    "cat_dict = {}\n",
    "cat_list = []\n",
    "for i in range(len(cat_np)):\n",
    "    cat_np[i] = re.split('[^a-z]', cat_np[i].lower()) # Разбиваю на слова (уже с нижним регистром) каждое предложение\n",
    "    for j in range(cat_np[i].count('')):\n",
    "        cat_np[i].remove('')                          # Удаляю пробелы\n",
    "    for k in range(len(cat_np[i])):\n",
    "        if cat_list.count(cat_np[i][k]) == 0:\n",
    "            cat_list.append(cat_np[i][k])             # Составляю список уникальных слов\n",
    "cat_list.sort()\n",
    "cat_list = list(enumerate(cat_list))                  # Упорядочиваю и нумерую слова\n",
    "for i in range(len(cat_list)):\n",
    "    cat_list[i] = list(cat_list[i])                   # В списке кортежы заменяю на списки и меняю местами слова и их номера\n",
    "    cat_list[i][0], cat_list[i][1] = cat_list[i][1], cat_list[i][0]\n",
    "cat_dict = dict(cat_list)                             # Создаю словарь на основе пронумерованного списка\n",
    "cat = np.zeros((len(cat_np), len(cat_dict)))          # Создаю нулевую матрицу размером 22 * 254 (22 предложения и 254 слова)\n",
    "for i in range(len(cat_np)):\n",
    "    for j in range(len(cat_np[i])):\n",
    "        cat[i][cat_dict[cat_np[i][j]]] = 1            # Заполняю матрицу\n",
    "cat_dist = np.zeros([21, 1])                          # Создаю нулевую матрицу размером 21 * 1 (для расстояний между векторами)\n",
    "for i in range(len(cat) - 1):                         # Заполняю матрицу расстояниями от 0-го вектора к i-му\n",
    "    cat_dist[i] = spatial.distance.cosine(cat[0], cat[i + 1])\n",
    "print(u'Ближайшие предложения к 1-му по косинусному расстоянию:',\n",
    "      cat_dist.argmin() + 1, u'и', np.delete(cat_dist, cat_dist.argmin()).argmin() + 1)"
   ]
  }
 ],
 "metadata": {
  "kernelspec": {
   "display_name": "Python [conda root]",
   "language": "python",
   "name": "conda-root-py"
  },
  "language_info": {
   "codemirror_mode": {
    "name": "ipython",
    "version": 3
   },
   "file_extension": ".py",
   "mimetype": "text/x-python",
   "name": "python",
   "nbconvert_exporter": "python",
   "pygments_lexer": "ipython3",
   "version": "3.5.2"
  }
 },
 "nbformat": 4,
 "nbformat_minor": 1
}
